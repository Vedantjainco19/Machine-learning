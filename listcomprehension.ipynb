{
  "nbformat": 4,
  "nbformat_minor": 0,
  "metadata": {
    "colab": {
      "name": "listcomprehension.ipynb",
      "provenance": [],
      "collapsed_sections": []
    },
    "kernelspec": {
      "name": "python3",
      "display_name": "Python 3"
    },
    "language_info": {
      "name": "python"
    }
  },
  "cells": [
    {
      "cell_type": "code",
      "execution_count": null,
      "metadata": {
        "colab": {
          "base_uri": "https://localhost:8080/"
        },
        "id": "0fP6rMwpCat_",
        "outputId": "ced6661e-1cb7-4bcd-ce3a-53603b13d13c"
      },
      "outputs": [
        {
          "output_type": "execute_result",
          "data": {
            "text/plain": [
              "[1225, 2916, 529]"
            ]
          },
          "metadata": {},
          "execution_count": 7
        }
      ],
      "source": [
        "#to print the square of number in the list given if it is greater than 50. \n",
        "li=[1,35,54,23,2,7,5]\n",
        "[i*i for i in li if i**2>50 ]"
      ]
    },
    {
      "cell_type": "code",
      "source": [
        "#for a given list if value is grater 5 then print hi otherwise bye\n",
        "li=[1,35,54,23,2,7,5]\n",
        "[\"hi\" if(i>5) else \"bye\"  for i in li]"
      ],
      "metadata": {
        "colab": {
          "base_uri": "https://localhost:8080/"
        },
        "id": "xGtMezLEE7Pq",
        "outputId": "0b658409-6d4b-4806-ed6b-c8b7bc9cb1b7"
      },
      "execution_count": null,
      "outputs": [
        {
          "output_type": "execute_result",
          "data": {
            "text/plain": [
              "['bye', 'hi', 'hi', 'hi', 'bye', 'hi', 'bye']"
            ]
          },
          "metadata": {},
          "execution_count": 11
        }
      ]
    },
    {
      "cell_type": "code",
      "source": [
        "#if x^2 <= 50 , execute 27*x for values 1 to 20\n",
        "[27*x for x in range(1,21) if x**2<=50]"
      ],
      "metadata": {
        "colab": {
          "base_uri": "https://localhost:8080/"
        },
        "id": "wV-aZq8UF080",
        "outputId": "9dd4ccb8-1bc4-4eed-a9fe-a838e762bdb1"
      },
      "execution_count": null,
      "outputs": [
        {
          "output_type": "execute_result",
          "data": {
            "text/plain": [
              "[27, 54, 81, 108, 135, 162, 189]"
            ]
          },
          "metadata": {},
          "execution_count": 12
        }
      ]
    },
    {
      "cell_type": "code",
      "source": [
        "# print even number in for values 1 to 20\n",
        "[i for i in range(1,21) if i%2==0]"
      ],
      "metadata": {
        "colab": {
          "base_uri": "https://localhost:8080/"
        },
        "id": "8jPb2GAyHWTz",
        "outputId": "8c1b0fd4-84ee-43ee-959a-7c46f75775ab"
      },
      "execution_count": null,
      "outputs": [
        {
          "output_type": "execute_result",
          "data": {
            "text/plain": [
              "[2, 4, 6, 8, 10, 12, 14, 16, 18, 20]"
            ]
          },
          "metadata": {},
          "execution_count": 14
        }
      ]
    },
    {
      "cell_type": "code",
      "source": [
        "# find all numbers that can be divided by 2 and 5 in some range\n",
        "[i for i  in range(1,101) if(i%2==0) and (i%5==0)]"
      ],
      "metadata": {
        "colab": {
          "base_uri": "https://localhost:8080/"
        },
        "id": "gLkfZGOGIC9_",
        "outputId": "4c8a79db-1a50-41f5-ea60-9cc0e03a51e5"
      },
      "execution_count": null,
      "outputs": [
        {
          "output_type": "execute_result",
          "data": {
            "text/plain": [
              "[10, 20, 30, 40, 50, 60, 70, 80, 90, 100]"
            ]
          },
          "metadata": {},
          "execution_count": 20
        }
      ]
    },
    {
      "cell_type": "code",
      "source": [
        "#find all numbers that if 3 is in that digit\n",
        "[i for i in range(1,101) if '3' in str(i) ]"
      ],
      "metadata": {
        "colab": {
          "base_uri": "https://localhost:8080/"
        },
        "id": "nBirgCgqI0XH",
        "outputId": "d915dbbe-2bb6-4baa-868c-31daad8385ff"
      },
      "execution_count": null,
      "outputs": [
        {
          "output_type": "execute_result",
          "data": {
            "text/plain": [
              "[3, 13, 23, 30, 31, 32, 33, 34, 35, 36, 37, 38, 39, 43, 53, 63, 73, 83, 93]"
            ]
          },
          "metadata": {},
          "execution_count": 22
        }
      ]
    },
    {
      "cell_type": "code",
      "source": [
        "s='i love cs and co'\n",
        "#count the number of space\n",
        "li = [ \"1\" for i in s if(i==\" \")]\n",
        "print(len(li))"
      ],
      "metadata": {
        "colab": {
          "base_uri": "https://localhost:8080/"
        },
        "id": "MIq6pT-GJmcv",
        "outputId": "31c68a45-9416-4db7-8608-f901710ade3f"
      },
      "execution_count": null,
      "outputs": [
        {
          "output_type": "stream",
          "name": "stdout",
          "text": [
            "4\n"
          ]
        }
      ]
    },
    {
      "cell_type": "code",
      "source": [
        "#count the constant \n",
        "s='i love cs and co'\n",
        "li=[i for i in s if i not in 'a,i,e,o,u'' ']\n",
        "print(len(li))"
      ],
      "metadata": {
        "colab": {
          "base_uri": "https://localhost:8080/"
        },
        "id": "pXjMvosPLSCt",
        "outputId": "000c06be-4f71-4a28-8ef1-9c998441655d"
      },
      "execution_count": null,
      "outputs": [
        {
          "output_type": "stream",
          "name": "stdout",
          "text": [
            "7\n"
          ]
        }
      ]
    },
    {
      "cell_type": "code",
      "source": [
        ""
      ],
      "metadata": {
        "id": "Xecf8ykfL4nB"
      },
      "execution_count": null,
      "outputs": []
    }
  ]
}